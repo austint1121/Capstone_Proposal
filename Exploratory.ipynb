{
 "cells": [
  {
   "cell_type": "code",
   "execution_count": 1,
   "metadata": {},
   "outputs": [],
   "source": [
    "import pandas as pd"
   ]
  },
  {
   "cell_type": "code",
   "execution_count": 2,
   "metadata": {},
   "outputs": [],
   "source": [
    "df = pd.read_sas('nsch_2020_topical_SAS/nsch_2020_topical.sas7bdat')"
   ]
  },
  {
   "cell_type": "code",
   "execution_count": 3,
   "metadata": {},
   "outputs": [
    {
     "data": {
      "text/plain": "(42777, 443)"
     },
     "execution_count": 3,
     "metadata": {},
     "output_type": "execute_result"
    }
   ],
   "source": [
    "df.shape"
   ]
  },
  {
   "cell_type": "code",
   "execution_count": 4,
   "metadata": {},
   "outputs": [
    {
     "data": {
      "text/plain": "  FIPSST STRATUM         HHID FORMTYPE  TOTKIDS_R  TENURE  HHLANGUAGE  \\\n0  b'17'    b'1'  b'20000003'    b'T1'        2.0     1.0         1.0   \n1  b'29'   b'2A'  b'20000004'    b'T3'        1.0     1.0         1.0   \n2  b'47'    b'1'  b'20000005'    b'T1'        1.0     1.0         1.0   \n3  b'28'    b'1'  b'20000014'    b'T3'        2.0     1.0         1.0   \n4  b'55'    b'1'  b'20000015'    b'T3'        2.0     2.0         1.0   \n\n   SC_AGE_YEARS  SC_SEX  K2Q35A_1_YEARS  ...  BIRTH_YR_F  BMICLASS  \\\n0           3.0     1.0             NaN  ...         0.0       NaN   \n1          14.0     2.0             NaN  ...         0.0       2.0   \n2           1.0     2.0             NaN  ...         0.0       NaN   \n3          15.0     2.0             NaN  ...         0.0       2.0   \n4          16.0     2.0             NaN  ...         0.0       3.0   \n\n   HHCOUNT_IF  FPL_I1  FPL_I2  FPL_I3  FPL_I4  FPL_I5  FPL_I6          FWC  \n0         0.0   400.0   400.0   400.0   400.0   400.0   400.0  3296.080092  \n1         0.0   400.0   400.0   400.0   400.0   400.0   400.0  2888.545330  \n2         0.0   400.0   400.0   400.0   400.0   400.0   400.0  1016.682730  \n3         0.0   143.0   143.0   143.0   143.0   143.0   143.0  1042.091065  \n4         0.0   400.0   400.0   400.0   400.0   400.0   400.0   402.372392  \n\n[5 rows x 443 columns]",
      "text/html": "<div>\n<style scoped>\n    .dataframe tbody tr th:only-of-type {\n        vertical-align: middle;\n    }\n\n    .dataframe tbody tr th {\n        vertical-align: top;\n    }\n\n    .dataframe thead th {\n        text-align: right;\n    }\n</style>\n<table border=\"1\" class=\"dataframe\">\n  <thead>\n    <tr style=\"text-align: right;\">\n      <th></th>\n      <th>FIPSST</th>\n      <th>STRATUM</th>\n      <th>HHID</th>\n      <th>FORMTYPE</th>\n      <th>TOTKIDS_R</th>\n      <th>TENURE</th>\n      <th>HHLANGUAGE</th>\n      <th>SC_AGE_YEARS</th>\n      <th>SC_SEX</th>\n      <th>K2Q35A_1_YEARS</th>\n      <th>...</th>\n      <th>BIRTH_YR_F</th>\n      <th>BMICLASS</th>\n      <th>HHCOUNT_IF</th>\n      <th>FPL_I1</th>\n      <th>FPL_I2</th>\n      <th>FPL_I3</th>\n      <th>FPL_I4</th>\n      <th>FPL_I5</th>\n      <th>FPL_I6</th>\n      <th>FWC</th>\n    </tr>\n  </thead>\n  <tbody>\n    <tr>\n      <th>0</th>\n      <td>b'17'</td>\n      <td>b'1'</td>\n      <td>b'20000003'</td>\n      <td>b'T1'</td>\n      <td>2.0</td>\n      <td>1.0</td>\n      <td>1.0</td>\n      <td>3.0</td>\n      <td>1.0</td>\n      <td>NaN</td>\n      <td>...</td>\n      <td>0.0</td>\n      <td>NaN</td>\n      <td>0.0</td>\n      <td>400.0</td>\n      <td>400.0</td>\n      <td>400.0</td>\n      <td>400.0</td>\n      <td>400.0</td>\n      <td>400.0</td>\n      <td>3296.080092</td>\n    </tr>\n    <tr>\n      <th>1</th>\n      <td>b'29'</td>\n      <td>b'2A'</td>\n      <td>b'20000004'</td>\n      <td>b'T3'</td>\n      <td>1.0</td>\n      <td>1.0</td>\n      <td>1.0</td>\n      <td>14.0</td>\n      <td>2.0</td>\n      <td>NaN</td>\n      <td>...</td>\n      <td>0.0</td>\n      <td>2.0</td>\n      <td>0.0</td>\n      <td>400.0</td>\n      <td>400.0</td>\n      <td>400.0</td>\n      <td>400.0</td>\n      <td>400.0</td>\n      <td>400.0</td>\n      <td>2888.545330</td>\n    </tr>\n    <tr>\n      <th>2</th>\n      <td>b'47'</td>\n      <td>b'1'</td>\n      <td>b'20000005'</td>\n      <td>b'T1'</td>\n      <td>1.0</td>\n      <td>1.0</td>\n      <td>1.0</td>\n      <td>1.0</td>\n      <td>2.0</td>\n      <td>NaN</td>\n      <td>...</td>\n      <td>0.0</td>\n      <td>NaN</td>\n      <td>0.0</td>\n      <td>400.0</td>\n      <td>400.0</td>\n      <td>400.0</td>\n      <td>400.0</td>\n      <td>400.0</td>\n      <td>400.0</td>\n      <td>1016.682730</td>\n    </tr>\n    <tr>\n      <th>3</th>\n      <td>b'28'</td>\n      <td>b'1'</td>\n      <td>b'20000014'</td>\n      <td>b'T3'</td>\n      <td>2.0</td>\n      <td>1.0</td>\n      <td>1.0</td>\n      <td>15.0</td>\n      <td>2.0</td>\n      <td>NaN</td>\n      <td>...</td>\n      <td>0.0</td>\n      <td>2.0</td>\n      <td>0.0</td>\n      <td>143.0</td>\n      <td>143.0</td>\n      <td>143.0</td>\n      <td>143.0</td>\n      <td>143.0</td>\n      <td>143.0</td>\n      <td>1042.091065</td>\n    </tr>\n    <tr>\n      <th>4</th>\n      <td>b'55'</td>\n      <td>b'1'</td>\n      <td>b'20000015'</td>\n      <td>b'T3'</td>\n      <td>2.0</td>\n      <td>2.0</td>\n      <td>1.0</td>\n      <td>16.0</td>\n      <td>2.0</td>\n      <td>NaN</td>\n      <td>...</td>\n      <td>0.0</td>\n      <td>3.0</td>\n      <td>0.0</td>\n      <td>400.0</td>\n      <td>400.0</td>\n      <td>400.0</td>\n      <td>400.0</td>\n      <td>400.0</td>\n      <td>400.0</td>\n      <td>402.372392</td>\n    </tr>\n  </tbody>\n</table>\n<p>5 rows × 443 columns</p>\n</div>"
     },
     "execution_count": 4,
     "metadata": {},
     "output_type": "execute_result"
    }
   ],
   "source": [
    "df.head()"
   ]
  },
  {
   "cell_type": "code",
   "execution_count": 5,
   "outputs": [
    {
     "name": "stdout",
     "output_type": "stream",
     "text": [
      "<class 'pandas.core.frame.DataFrame'>\n",
      "RangeIndex: 42777 entries, 0 to 42776\n",
      "Columns: 443 entries, FIPSST to FWC\n",
      "dtypes: float64(439), object(4)\n",
      "memory usage: 144.6+ MB\n"
     ]
    }
   ],
   "source": [
    "df.info()"
   ],
   "metadata": {
    "collapsed": false,
    "pycharm": {
     "name": "#%%\n"
    }
   }
  },
  {
   "cell_type": "markdown",
   "source": [
    "There are 439 float columns and \"4\" object columns."
   ],
   "metadata": {
    "collapsed": false,
    "pycharm": {
     "name": "#%% md\n"
    }
   }
  },
  {
   "cell_type": "code",
   "execution_count": 6,
   "outputs": [
    {
     "data": {
      "text/plain": "2.0    38283\n1.0     4306\nName: K2Q31A, dtype: int64"
     },
     "execution_count": 6,
     "metadata": {},
     "output_type": "execute_result"
    }
   ],
   "source": [
    "# Header: Has a doctor or other health care provider EVER told you that this child has Attention Deficit Disorder or Attention-Deficit/Hyperactivity Disorder, that is, ADD or ADHD?\n",
    "df['K2Q31A'].value_counts()"
   ],
   "metadata": {
    "collapsed": false,
    "pycharm": {
     "name": "#%%\n"
    }
   }
  },
  {
   "cell_type": "markdown",
   "source": [
    "Of the 42,777 kids, 4306 have been diagnosed with ADHD by a doctor."
   ],
   "metadata": {
    "collapsed": false,
    "pycharm": {
     "name": "#%% md\n"
    }
   }
  },
  {
   "cell_type": "code",
   "execution_count": 7,
   "outputs": [
    {
     "data": {
      "text/plain": "1.0    0.922038\n2.0    0.077962\nName: K2Q31B, dtype: float64"
     },
     "execution_count": 7,
     "metadata": {},
     "output_type": "execute_result"
    }
   ],
   "source": [
    "# If yes, does this child CURRENTLY have the condition?\n",
    "# 1 = yes, 2 = no\n",
    "df['K2Q31B'].value_counts(normalize=True)"
   ],
   "metadata": {
    "collapsed": false,
    "pycharm": {
     "name": "#%%\n"
    }
   }
  },
  {
   "cell_type": "markdown",
   "source": [
    "of the 4306 diagnoses, 3891 CURRENTLY have the condition? This seems illogical at first glance, perhaps a misdiagnosis"
   ],
   "metadata": {
    "collapsed": false,
    "pycharm": {
     "name": "#%% md\n"
    }
   }
  },
  {
   "cell_type": "code",
   "execution_count": 8,
   "outputs": [],
   "source": [
    "# A baseline mode"
   ],
   "metadata": {
    "collapsed": false,
    "pycharm": {
     "name": "#%%\n"
    }
   }
  },
  {
   "cell_type": "code",
   "execution_count": 9,
   "outputs": [
    {
     "data": {
      "text/plain": "      FIPSST STRATUM         HHID FORMTYPE\n0      b'17'    b'1'  b'20000003'    b'T1'\n1      b'29'   b'2A'  b'20000004'    b'T3'\n2      b'47'    b'1'  b'20000005'    b'T1'\n3      b'28'    b'1'  b'20000014'    b'T3'\n4      b'55'    b'1'  b'20000015'    b'T3'\n...      ...     ...          ...      ...\n42772  b'26'    b'1'  b'20239975'    b'T3'\n42773  b'54'    b'1'  b'20239979'    b'T2'\n42774  b'54'    b'1'  b'20239980'    b'T3'\n42775  b'15'    b'1'  b'20239994'    b'T2'\n42776  b'28'    b'1'  b'20239999'    b'T3'\n\n[42777 rows x 4 columns]",
      "text/html": "<div>\n<style scoped>\n    .dataframe tbody tr th:only-of-type {\n        vertical-align: middle;\n    }\n\n    .dataframe tbody tr th {\n        vertical-align: top;\n    }\n\n    .dataframe thead th {\n        text-align: right;\n    }\n</style>\n<table border=\"1\" class=\"dataframe\">\n  <thead>\n    <tr style=\"text-align: right;\">\n      <th></th>\n      <th>FIPSST</th>\n      <th>STRATUM</th>\n      <th>HHID</th>\n      <th>FORMTYPE</th>\n    </tr>\n  </thead>\n  <tbody>\n    <tr>\n      <th>0</th>\n      <td>b'17'</td>\n      <td>b'1'</td>\n      <td>b'20000003'</td>\n      <td>b'T1'</td>\n    </tr>\n    <tr>\n      <th>1</th>\n      <td>b'29'</td>\n      <td>b'2A'</td>\n      <td>b'20000004'</td>\n      <td>b'T3'</td>\n    </tr>\n    <tr>\n      <th>2</th>\n      <td>b'47'</td>\n      <td>b'1'</td>\n      <td>b'20000005'</td>\n      <td>b'T1'</td>\n    </tr>\n    <tr>\n      <th>3</th>\n      <td>b'28'</td>\n      <td>b'1'</td>\n      <td>b'20000014'</td>\n      <td>b'T3'</td>\n    </tr>\n    <tr>\n      <th>4</th>\n      <td>b'55'</td>\n      <td>b'1'</td>\n      <td>b'20000015'</td>\n      <td>b'T3'</td>\n    </tr>\n    <tr>\n      <th>...</th>\n      <td>...</td>\n      <td>...</td>\n      <td>...</td>\n      <td>...</td>\n    </tr>\n    <tr>\n      <th>42772</th>\n      <td>b'26'</td>\n      <td>b'1'</td>\n      <td>b'20239975'</td>\n      <td>b'T3'</td>\n    </tr>\n    <tr>\n      <th>42773</th>\n      <td>b'54'</td>\n      <td>b'1'</td>\n      <td>b'20239979'</td>\n      <td>b'T2'</td>\n    </tr>\n    <tr>\n      <th>42774</th>\n      <td>b'54'</td>\n      <td>b'1'</td>\n      <td>b'20239980'</td>\n      <td>b'T3'</td>\n    </tr>\n    <tr>\n      <th>42775</th>\n      <td>b'15'</td>\n      <td>b'1'</td>\n      <td>b'20239994'</td>\n      <td>b'T2'</td>\n    </tr>\n    <tr>\n      <th>42776</th>\n      <td>b'28'</td>\n      <td>b'1'</td>\n      <td>b'20239999'</td>\n      <td>b'T3'</td>\n    </tr>\n  </tbody>\n</table>\n<p>42777 rows × 4 columns</p>\n</div>"
     },
     "execution_count": 9,
     "metadata": {},
     "output_type": "execute_result"
    }
   ],
   "source": [
    "# All Object type columns\n",
    "df.select_dtypes('object')"
   ],
   "metadata": {
    "collapsed": false,
    "pycharm": {
     "name": "#%%\n"
    }
   }
  },
  {
   "cell_type": "markdown",
   "source": [
    "- FIPSST = State ID code\n",
    "- STRATUM = SAMPLING STRATUM\n",
    "- HHID = Unique household id\n",
    "- FORMTYPE = unsure, has to do with the kind of form given"
   ],
   "metadata": {
    "collapsed": false,
    "pycharm": {
     "name": "#%% md\n"
    }
   }
  },
  {
   "cell_type": "code",
   "execution_count": 10,
   "outputs": [],
   "source": [
    "cleaning = df.drop(df.select_dtypes('object'), axis=1)"
   ],
   "metadata": {
    "collapsed": false,
    "pycharm": {
     "name": "#%%\n"
    }
   }
  },
  {
   "cell_type": "code",
   "execution_count": 11,
   "outputs": [
    {
     "data": {
      "text/plain": "          TOTKIDS_R        TENURE    HHLANGUAGE  SC_AGE_YEARS        SC_SEX  \\\ncount  42777.000000  42777.000000  42623.000000  42777.000000  42777.000000   \nmean       1.840335      1.495477      1.109823      9.431190      1.483274   \nstd        0.862610      0.819669      0.412230      5.194338      0.499726   \nmin        1.000000      1.000000      1.000000      0.000000      1.000000   \n25%        1.000000      1.000000      1.000000      5.000000      1.000000   \n50%        2.000000      1.000000      1.000000     10.000000      1.000000   \n75%        2.000000      2.000000      1.000000     14.000000      2.000000   \nmax        4.000000      4.000000      3.000000     17.000000      2.000000   \n\n       K2Q35A_1_YEARS      BIRTH_MO      BIRTH_YR        MOMAGE  K6Q41R_STILL  \\\ncount     1158.000000  42511.000000  42392.000000  41851.000000  10087.000000   \nmean         5.068221      6.570864   2010.321334     30.230317      1.871716   \nstd          3.323733      3.409282      5.232742      5.784751      0.334422   \nmin          1.000000      1.000000   2002.000000     18.000000      1.000000   \n25%          3.000000      4.000000   2006.000000     26.000000      2.000000   \n50%          4.000000      7.000000   2010.000000     30.000000      2.000000   \n75%          7.000000      9.000000   2015.000000     34.000000      2.000000   \nmax         15.000000     12.000000   2020.000000     45.000000      2.000000   \n\n       ...    BIRTH_YR_F      BMICLASS    HHCOUNT_IF        FPL_I1  \\\ncount  ...  42777.000000  21511.000000  42777.000000  42777.000000   \nmean   ...      0.050752      2.367254      0.028029    284.465834   \nstd    ...      0.266884      0.799311      0.165058    125.492256   \nmin    ...      0.000000      1.000000      0.000000     50.000000   \n25%    ...      0.000000      2.000000      0.000000    175.000000   \n50%    ...      0.000000      2.000000      0.000000    331.000000   \n75%    ...      0.000000      3.000000      0.000000    400.000000   \nmax    ...      3.000000      4.000000      1.000000    400.000000   \n\n             FPL_I2        FPL_I3        FPL_I4        FPL_I5        FPL_I6  \\\ncount  42777.000000  42777.000000  42777.000000  42777.000000  42777.000000   \nmean     285.181289    283.772191    283.905790    284.479907    284.966968   \nstd      125.227748    125.938541    125.792847    125.547978    125.284709   \nmin       50.000000     50.000000     50.000000     50.000000     50.000000   \n25%      176.000000    174.000000    174.000000    176.000000    176.000000   \n50%      333.000000    329.000000    329.000000    331.000000    332.000000   \n75%      400.000000    400.000000    400.000000    400.000000    400.000000   \nmax      400.000000    400.000000    400.000000    400.000000    400.000000   \n\n                FWC  \ncount  42777.000000  \nmean    1701.248328  \nstd     3394.445550  \nmin        9.316676  \n25%      276.176852  \n50%      726.644967  \n75%     1754.689869  \nmax    59314.310800  \n\n[8 rows x 439 columns]",
      "text/html": "<div>\n<style scoped>\n    .dataframe tbody tr th:only-of-type {\n        vertical-align: middle;\n    }\n\n    .dataframe tbody tr th {\n        vertical-align: top;\n    }\n\n    .dataframe thead th {\n        text-align: right;\n    }\n</style>\n<table border=\"1\" class=\"dataframe\">\n  <thead>\n    <tr style=\"text-align: right;\">\n      <th></th>\n      <th>TOTKIDS_R</th>\n      <th>TENURE</th>\n      <th>HHLANGUAGE</th>\n      <th>SC_AGE_YEARS</th>\n      <th>SC_SEX</th>\n      <th>K2Q35A_1_YEARS</th>\n      <th>BIRTH_MO</th>\n      <th>BIRTH_YR</th>\n      <th>MOMAGE</th>\n      <th>K6Q41R_STILL</th>\n      <th>...</th>\n      <th>BIRTH_YR_F</th>\n      <th>BMICLASS</th>\n      <th>HHCOUNT_IF</th>\n      <th>FPL_I1</th>\n      <th>FPL_I2</th>\n      <th>FPL_I3</th>\n      <th>FPL_I4</th>\n      <th>FPL_I5</th>\n      <th>FPL_I6</th>\n      <th>FWC</th>\n    </tr>\n  </thead>\n  <tbody>\n    <tr>\n      <th>count</th>\n      <td>42777.000000</td>\n      <td>42777.000000</td>\n      <td>42623.000000</td>\n      <td>42777.000000</td>\n      <td>42777.000000</td>\n      <td>1158.000000</td>\n      <td>42511.000000</td>\n      <td>42392.000000</td>\n      <td>41851.000000</td>\n      <td>10087.000000</td>\n      <td>...</td>\n      <td>42777.000000</td>\n      <td>21511.000000</td>\n      <td>42777.000000</td>\n      <td>42777.000000</td>\n      <td>42777.000000</td>\n      <td>42777.000000</td>\n      <td>42777.000000</td>\n      <td>42777.000000</td>\n      <td>42777.000000</td>\n      <td>42777.000000</td>\n    </tr>\n    <tr>\n      <th>mean</th>\n      <td>1.840335</td>\n      <td>1.495477</td>\n      <td>1.109823</td>\n      <td>9.431190</td>\n      <td>1.483274</td>\n      <td>5.068221</td>\n      <td>6.570864</td>\n      <td>2010.321334</td>\n      <td>30.230317</td>\n      <td>1.871716</td>\n      <td>...</td>\n      <td>0.050752</td>\n      <td>2.367254</td>\n      <td>0.028029</td>\n      <td>284.465834</td>\n      <td>285.181289</td>\n      <td>283.772191</td>\n      <td>283.905790</td>\n      <td>284.479907</td>\n      <td>284.966968</td>\n      <td>1701.248328</td>\n    </tr>\n    <tr>\n      <th>std</th>\n      <td>0.862610</td>\n      <td>0.819669</td>\n      <td>0.412230</td>\n      <td>5.194338</td>\n      <td>0.499726</td>\n      <td>3.323733</td>\n      <td>3.409282</td>\n      <td>5.232742</td>\n      <td>5.784751</td>\n      <td>0.334422</td>\n      <td>...</td>\n      <td>0.266884</td>\n      <td>0.799311</td>\n      <td>0.165058</td>\n      <td>125.492256</td>\n      <td>125.227748</td>\n      <td>125.938541</td>\n      <td>125.792847</td>\n      <td>125.547978</td>\n      <td>125.284709</td>\n      <td>3394.445550</td>\n    </tr>\n    <tr>\n      <th>min</th>\n      <td>1.000000</td>\n      <td>1.000000</td>\n      <td>1.000000</td>\n      <td>0.000000</td>\n      <td>1.000000</td>\n      <td>1.000000</td>\n      <td>1.000000</td>\n      <td>2002.000000</td>\n      <td>18.000000</td>\n      <td>1.000000</td>\n      <td>...</td>\n      <td>0.000000</td>\n      <td>1.000000</td>\n      <td>0.000000</td>\n      <td>50.000000</td>\n      <td>50.000000</td>\n      <td>50.000000</td>\n      <td>50.000000</td>\n      <td>50.000000</td>\n      <td>50.000000</td>\n      <td>9.316676</td>\n    </tr>\n    <tr>\n      <th>25%</th>\n      <td>1.000000</td>\n      <td>1.000000</td>\n      <td>1.000000</td>\n      <td>5.000000</td>\n      <td>1.000000</td>\n      <td>3.000000</td>\n      <td>4.000000</td>\n      <td>2006.000000</td>\n      <td>26.000000</td>\n      <td>2.000000</td>\n      <td>...</td>\n      <td>0.000000</td>\n      <td>2.000000</td>\n      <td>0.000000</td>\n      <td>175.000000</td>\n      <td>176.000000</td>\n      <td>174.000000</td>\n      <td>174.000000</td>\n      <td>176.000000</td>\n      <td>176.000000</td>\n      <td>276.176852</td>\n    </tr>\n    <tr>\n      <th>50%</th>\n      <td>2.000000</td>\n      <td>1.000000</td>\n      <td>1.000000</td>\n      <td>10.000000</td>\n      <td>1.000000</td>\n      <td>4.000000</td>\n      <td>7.000000</td>\n      <td>2010.000000</td>\n      <td>30.000000</td>\n      <td>2.000000</td>\n      <td>...</td>\n      <td>0.000000</td>\n      <td>2.000000</td>\n      <td>0.000000</td>\n      <td>331.000000</td>\n      <td>333.000000</td>\n      <td>329.000000</td>\n      <td>329.000000</td>\n      <td>331.000000</td>\n      <td>332.000000</td>\n      <td>726.644967</td>\n    </tr>\n    <tr>\n      <th>75%</th>\n      <td>2.000000</td>\n      <td>2.000000</td>\n      <td>1.000000</td>\n      <td>14.000000</td>\n      <td>2.000000</td>\n      <td>7.000000</td>\n      <td>9.000000</td>\n      <td>2015.000000</td>\n      <td>34.000000</td>\n      <td>2.000000</td>\n      <td>...</td>\n      <td>0.000000</td>\n      <td>3.000000</td>\n      <td>0.000000</td>\n      <td>400.000000</td>\n      <td>400.000000</td>\n      <td>400.000000</td>\n      <td>400.000000</td>\n      <td>400.000000</td>\n      <td>400.000000</td>\n      <td>1754.689869</td>\n    </tr>\n    <tr>\n      <th>max</th>\n      <td>4.000000</td>\n      <td>4.000000</td>\n      <td>3.000000</td>\n      <td>17.000000</td>\n      <td>2.000000</td>\n      <td>15.000000</td>\n      <td>12.000000</td>\n      <td>2020.000000</td>\n      <td>45.000000</td>\n      <td>2.000000</td>\n      <td>...</td>\n      <td>3.000000</td>\n      <td>4.000000</td>\n      <td>1.000000</td>\n      <td>400.000000</td>\n      <td>400.000000</td>\n      <td>400.000000</td>\n      <td>400.000000</td>\n      <td>400.000000</td>\n      <td>400.000000</td>\n      <td>59314.310800</td>\n    </tr>\n  </tbody>\n</table>\n<p>8 rows × 439 columns</p>\n</div>"
     },
     "execution_count": 11,
     "metadata": {},
     "output_type": "execute_result"
    }
   ],
   "source": [
    "cleaning.describe()"
   ],
   "metadata": {
    "collapsed": false,
    "pycharm": {
     "name": "#%%\n"
    }
   }
  },
  {
   "cell_type": "code",
   "execution_count": 12,
   "outputs": [
    {
     "data": {
      "text/plain": "count    42777.000000\nmean         9.431190\nstd          5.194338\nmin          0.000000\n25%          5.000000\n50%         10.000000\n75%         14.000000\nmax         17.000000\nName: SC_AGE_YEARS, dtype: float64"
     },
     "execution_count": 12,
     "metadata": {},
     "output_type": "execute_result"
    }
   ],
   "source": [
    "cleaning['SC_AGE_YEARS'].describe()"
   ],
   "metadata": {
    "collapsed": false,
    "pycharm": {
     "name": "#%%\n"
    }
   }
  },
  {
   "cell_type": "code",
   "execution_count": 13,
   "outputs": [
    {
     "data": {
      "text/plain": "16.0    3298\n17.0    3298\n15.0    3017\n14.0    2745\n13.0    2696\n12.0    2485\n11.0    2418\n2.0     2338\n10.0    2297\n5.0     2279\n3.0     2245\n4.0     2240\n9.0     2152\n7.0     2135\n8.0     2096\n6.0     1999\n1.0     1642\n0.0     1397\nName: SC_AGE_YEARS, dtype: int64"
     },
     "execution_count": 13,
     "metadata": {},
     "output_type": "execute_result"
    }
   ],
   "source": [
    "#Mean age is about 9 years old, lets check value counts as well\n",
    "cleaning['SC_AGE_YEARS'].value_counts()"
   ],
   "metadata": {
    "collapsed": false,
    "pycharm": {
     "name": "#%%\n"
    }
   }
  },
  {
   "cell_type": "markdown",
   "source": [
    "Surprisingly, most of our data is from pre-teens / teenagers."
   ],
   "metadata": {
    "collapsed": false,
    "pycharm": {
     "name": "#%% md\n"
    }
   }
  },
  {
   "cell_type": "code",
   "source": [
    "# Lets check the gender data as well\n",
    "cleaning['SC_SEX'].value_counts()"
   ],
   "metadata": {
    "collapsed": false,
    "pycharm": {
     "name": "#%%\n"
    }
   },
   "execution_count": 14,
   "outputs": [
    {
     "data": {
      "text/plain": "1.0    22104\n2.0    20673\nName: SC_SEX, dtype: int64"
     },
     "execution_count": 14,
     "metadata": {},
     "output_type": "execute_result"
    }
   ]
  },
  {
   "cell_type": "code",
   "execution_count": 15,
   "outputs": [],
   "source": [
    "# K2Q34A - Diagnosed Behavioral or Conduct Problems\n",
    "# K2Q34B - Currently have Behavioral or Conduct Problems\n",
    "# K2Q34C - Severity\n",
    "\n",
    "# K2Q33A - Diagnosed with Anxiety disorder\n",
    "# K2Q33B - Currently have anxiety disorder\n",
    "# K2Q33C - Severity\n",
    "\n",
    "\n",
    "# K2Q35A - Diagnosed Autism\n",
    "# K2Q35B - Currently have Autism\n",
    "# K2Q35C - Severity\n",
    "\n",
    "# K2Q36A - Diagnosed Developmental Delay\n",
    "# K2Q36B - Currently have Developmental Delay\n",
    "# K2Q36C - Severity\n",
    "\n",
    "# K2Q32A - Diagnosed Depression\n",
    "# K2Q32B - Currently have Depression\n",
    "# K2Q32C - Severity\n",
    "\n",
    "# SC_AGE_YEARS - Child Age\n",
    "# SC_SEX = Child's gender\n",
    "\n",
    "# K2Q31A - Diagnosed ADHD\n",
    "\n",
    "# for each, im only going to take either \"diagnosed\" or \"currently has\"\n",
    "m_health = cleaning[['K2Q34A', 'K2Q33A', 'K2Q36A', 'K2Q35A', 'SC_AGE_YEARS', 'SC_SEX', 'K2Q31A']]\n"
   ],
   "metadata": {
    "collapsed": false,
    "pycharm": {
     "name": "#%%\n"
    }
   }
  },
  {
   "cell_type": "code",
   "source": [
    "# Rename all of the columns\n",
    "column_names = {'K2Q33A': 'Anxiety Disorder', 'K2Q35A': 'Autism', 'K2Q36A': 'Developmental Delay', 'K2Q32A': 'Depression', 'SC_AGE_YEARS': 'Child Age', 'SC_SEX': 'Childs Sex', 'K2Q34A': 'Behavior or Conduct Problems', 'K2Q31A': 'ADHD'}\n",
    "m_health.rename(column_names, axis=1, inplace=True)"
   ],
   "metadata": {
    "collapsed": false,
    "pycharm": {
     "name": "#%%\n"
    }
   },
   "execution_count": 16,
   "outputs": [
    {
     "name": "stderr",
     "output_type": "stream",
     "text": [
      "/Users/matthewturner/opt/anaconda3/lib/python3.8/site-packages/pandas/core/frame.py:4441: SettingWithCopyWarning: \n",
      "A value is trying to be set on a copy of a slice from a DataFrame\n",
      "\n",
      "See the caveats in the documentation: https://pandas.pydata.org/pandas-docs/stable/user_guide/indexing.html#returning-a-view-versus-a-copy\n",
      "  return super().rename(\n"
     ]
    }
   ]
  },
  {
   "cell_type": "code",
   "execution_count": 17,
   "outputs": [
    {
     "data": {
      "text/plain": "Behavior or Conduct Problems    110\nAnxiety Disorder                144\nDevelopmental Delay             156\nAutism                          166\nChild Age                         0\nChilds Sex                        0\nADHD                            188\ndtype: int64"
     },
     "execution_count": 17,
     "metadata": {},
     "output_type": "execute_result"
    }
   ],
   "source": [
    "# Checking for NAN\n",
    "m_health.isna().sum()"
   ],
   "metadata": {
    "collapsed": false,
    "pycharm": {
     "name": "#%%\n"
    }
   }
  },
  {
   "cell_type": "code",
   "execution_count": 18,
   "outputs": [
    {
     "name": "stderr",
     "output_type": "stream",
     "text": [
      "<ipython-input-18-a617dca00896>:2: SettingWithCopyWarning: \n",
      "A value is trying to be set on a copy of a slice from a DataFrame\n",
      "\n",
      "See the caveats in the documentation: https://pandas.pydata.org/pandas-docs/stable/user_guide/indexing.html#returning-a-view-versus-a-copy\n",
      "  m_health.dropna(inplace=True)\n"
     ]
    }
   ],
   "source": [
    "# Drop NANs\n",
    "m_health.dropna(inplace=True)"
   ],
   "metadata": {
    "collapsed": false,
    "pycharm": {
     "name": "#%%\n"
    }
   }
  },
  {
   "cell_type": "code",
   "execution_count": 19,
   "outputs": [
    {
     "name": "stderr",
     "output_type": "stream",
     "text": [
      "/Users/matthewturner/opt/anaconda3/lib/python3.8/site-packages/pandas/core/frame.py:4308: SettingWithCopyWarning: \n",
      "A value is trying to be set on a copy of a slice from a DataFrame\n",
      "\n",
      "See the caveats in the documentation: https://pandas.pydata.org/pandas-docs/stable/user_guide/indexing.html#returning-a-view-versus-a-copy\n",
      "  return super().drop(\n"
     ]
    }
   ],
   "source": [
    "# Encode target\n",
    "replacements = {2: 0, 1: 1}\n",
    "target = m_health['ADHD'].replace(replacements)\n",
    "m_health.drop(columns='ADHD', inplace=True)"
   ],
   "metadata": {
    "collapsed": false,
    "pycharm": {
     "name": "#%%\n"
    }
   }
  },
  {
   "cell_type": "code",
   "execution_count": 20,
   "outputs": [],
   "source": [
    "clean_m_health = m_health[['Behavior or Conduct Problems', 'Anxiety Disorder', 'Developmental Delay', 'Autism', 'Childs Sex']].replace(replacements)\n"
   ],
   "metadata": {
    "collapsed": false,
    "pycharm": {
     "name": "#%%\n"
    }
   }
  },
  {
   "cell_type": "code",
   "execution_count": 21,
   "outputs": [
    {
     "data": {
      "text/plain": "       Behavior or Conduct Problems  Anxiety Disorder  Developmental Delay  \\\n0                               0.0               0.0                  0.0   \n1                               0.0               1.0                  0.0   \n2                               0.0               0.0                  0.0   \n3                               0.0               0.0                  0.0   \n4                               0.0               1.0                  0.0   \n...                             ...               ...                  ...   \n42772                           1.0               1.0                  1.0   \n42773                           0.0               0.0                  0.0   \n42774                           1.0               0.0                  1.0   \n42775                           0.0               0.0                  0.0   \n42776                           0.0               0.0                  0.0   \n\n       Autism  Childs Sex  Child Age  \n0         0.0         1.0        3.0  \n1         0.0         0.0       14.0  \n2         0.0         0.0        1.0  \n3         0.0         0.0       15.0  \n4         0.0         0.0       16.0  \n...       ...         ...        ...  \n42772     1.0         1.0       13.0  \n42773     0.0         1.0        7.0  \n42774     1.0         0.0       14.0  \n42775     0.0         0.0       10.0  \n42776     0.0         0.0       15.0  \n\n[42106 rows x 6 columns]",
      "text/html": "<div>\n<style scoped>\n    .dataframe tbody tr th:only-of-type {\n        vertical-align: middle;\n    }\n\n    .dataframe tbody tr th {\n        vertical-align: top;\n    }\n\n    .dataframe thead th {\n        text-align: right;\n    }\n</style>\n<table border=\"1\" class=\"dataframe\">\n  <thead>\n    <tr style=\"text-align: right;\">\n      <th></th>\n      <th>Behavior or Conduct Problems</th>\n      <th>Anxiety Disorder</th>\n      <th>Developmental Delay</th>\n      <th>Autism</th>\n      <th>Childs Sex</th>\n      <th>Child Age</th>\n    </tr>\n  </thead>\n  <tbody>\n    <tr>\n      <th>0</th>\n      <td>0.0</td>\n      <td>0.0</td>\n      <td>0.0</td>\n      <td>0.0</td>\n      <td>1.0</td>\n      <td>3.0</td>\n    </tr>\n    <tr>\n      <th>1</th>\n      <td>0.0</td>\n      <td>1.0</td>\n      <td>0.0</td>\n      <td>0.0</td>\n      <td>0.0</td>\n      <td>14.0</td>\n    </tr>\n    <tr>\n      <th>2</th>\n      <td>0.0</td>\n      <td>0.0</td>\n      <td>0.0</td>\n      <td>0.0</td>\n      <td>0.0</td>\n      <td>1.0</td>\n    </tr>\n    <tr>\n      <th>3</th>\n      <td>0.0</td>\n      <td>0.0</td>\n      <td>0.0</td>\n      <td>0.0</td>\n      <td>0.0</td>\n      <td>15.0</td>\n    </tr>\n    <tr>\n      <th>4</th>\n      <td>0.0</td>\n      <td>1.0</td>\n      <td>0.0</td>\n      <td>0.0</td>\n      <td>0.0</td>\n      <td>16.0</td>\n    </tr>\n    <tr>\n      <th>...</th>\n      <td>...</td>\n      <td>...</td>\n      <td>...</td>\n      <td>...</td>\n      <td>...</td>\n      <td>...</td>\n    </tr>\n    <tr>\n      <th>42772</th>\n      <td>1.0</td>\n      <td>1.0</td>\n      <td>1.0</td>\n      <td>1.0</td>\n      <td>1.0</td>\n      <td>13.0</td>\n    </tr>\n    <tr>\n      <th>42773</th>\n      <td>0.0</td>\n      <td>0.0</td>\n      <td>0.0</td>\n      <td>0.0</td>\n      <td>1.0</td>\n      <td>7.0</td>\n    </tr>\n    <tr>\n      <th>42774</th>\n      <td>1.0</td>\n      <td>0.0</td>\n      <td>1.0</td>\n      <td>1.0</td>\n      <td>0.0</td>\n      <td>14.0</td>\n    </tr>\n    <tr>\n      <th>42775</th>\n      <td>0.0</td>\n      <td>0.0</td>\n      <td>0.0</td>\n      <td>0.0</td>\n      <td>0.0</td>\n      <td>10.0</td>\n    </tr>\n    <tr>\n      <th>42776</th>\n      <td>0.0</td>\n      <td>0.0</td>\n      <td>0.0</td>\n      <td>0.0</td>\n      <td>0.0</td>\n      <td>15.0</td>\n    </tr>\n  </tbody>\n</table>\n<p>42106 rows × 6 columns</p>\n</div>"
     },
     "execution_count": 21,
     "metadata": {},
     "output_type": "execute_result"
    }
   ],
   "source": [
    "clean_m_health = clean_m_health.join(m_health['Child Age'])\n",
    "clean_m_health"
   ],
   "metadata": {
    "collapsed": false,
    "pycharm": {
     "name": "#%%\n"
    }
   }
  },
  {
   "cell_type": "code",
   "execution_count": 22,
   "outputs": [],
   "source": [
    "from sklearn.model_selection import train_test_split\n",
    "X_train, X_test, y_train, y_test = train_test_split(clean_m_health, target)"
   ],
   "metadata": {
    "collapsed": false,
    "pycharm": {
     "name": "#%%\n"
    }
   }
  },
  {
   "cell_type": "code",
   "execution_count": 23,
   "outputs": [
    {
     "data": {
      "text/plain": "DecisionTreeClassifier(max_depth=10, random_state=15)"
     },
     "execution_count": 23,
     "metadata": {},
     "output_type": "execute_result"
    }
   ],
   "source": [
    "from sklearn.tree import DecisionTreeClassifier\n",
    "\n",
    "tree_class = DecisionTreeClassifier(random_state=15, max_depth=10)\n",
    "tree_class.fit(X_train, y_train)"
   ],
   "metadata": {
    "collapsed": false,
    "pycharm": {
     "name": "#%%\n"
    }
   }
  },
  {
   "cell_type": "code",
   "execution_count": 24,
   "outputs": [
    {
     "data": {
      "text/plain": "0.926090123183128"
     },
     "execution_count": 24,
     "metadata": {},
     "output_type": "execute_result"
    }
   ],
   "source": [
    "tree_class.score(X_train, y_train)"
   ],
   "metadata": {
    "collapsed": false,
    "pycharm": {
     "name": "#%%\n"
    }
   }
  },
  {
   "cell_type": "markdown",
   "source": [
    "Now, this is almost the exact score you would get if you just guessed \"no\" every single time. Time to adjust."
   ],
   "metadata": {
    "collapsed": false,
    "pycharm": {
     "name": "#%% md\n"
    }
   }
  },
  {
   "cell_type": "code",
   "execution_count": 24,
   "outputs": [],
   "source": [],
   "metadata": {
    "collapsed": false,
    "pycharm": {
     "name": "#%%\n"
    }
   }
  },
  {
   "cell_type": "code",
   "execution_count": 25,
   "outputs": [
    {
     "name": "stdout",
     "output_type": "stream",
     "text": [
      "              precision    recall  f1-score   support\n",
      "\n",
      "         0.0       0.94      0.97      0.96      9481\n",
      "         1.0       0.66      0.45      0.53      1046\n",
      "\n",
      "    accuracy                           0.92     10527\n",
      "   macro avg       0.80      0.71      0.75     10527\n",
      "weighted avg       0.91      0.92      0.92     10527\n",
      "\n"
     ]
    }
   ],
   "source": [
    "from sklearn.metrics import classification_report\n",
    "preds = tree_class.predict(X_test)\n",
    "print(classification_report(y_test, preds))"
   ],
   "metadata": {
    "collapsed": false,
    "pycharm": {
     "name": "#%%\n"
    }
   }
  },
  {
   "cell_type": "code",
   "execution_count": 26,
   "outputs": [
    {
     "data": {
      "text/plain": "DecisionTreeClassifier(class_weight='balanced', max_depth=10, random_state=15)"
     },
     "execution_count": 26,
     "metadata": {},
     "output_type": "execute_result"
    }
   ],
   "source": [
    "# Big yikes, but not hopeless. Lets add some weights.\n",
    "tree_class_weighted = DecisionTreeClassifier(random_state=15, max_depth=10, class_weight='balanced')\n",
    "tree_class_weighted.fit(X_train, y_train)"
   ],
   "metadata": {
    "collapsed": false,
    "pycharm": {
     "name": "#%%\n"
    }
   }
  },
  {
   "cell_type": "code",
   "execution_count": 27,
   "outputs": [
    {
     "name": "stdout",
     "output_type": "stream",
     "text": [
      "              precision    recall  f1-score   support\n",
      "\n",
      "         0.0       0.96      0.90      0.93      9481\n",
      "         1.0       0.43      0.68      0.53      1046\n",
      "\n",
      "    accuracy                           0.88     10527\n",
      "   macro avg       0.70      0.79      0.73     10527\n",
      "weighted avg       0.91      0.88      0.89     10527\n",
      "\n"
     ]
    }
   ],
   "source": [
    "weighted_preds = tree_class_weighted.predict(X_test)\n",
    "print(classification_report(y_test, weighted_preds))"
   ],
   "metadata": {
    "collapsed": false,
    "pycharm": {
     "name": "#%%\n"
    }
   }
  },
  {
   "cell_type": "code",
   "execution_count": 28,
   "outputs": [],
   "source": [
    "from sklearn.metrics import roc_curve, roc_auc_score, plot_roc_curve, auc"
   ],
   "metadata": {
    "collapsed": false,
    "pycharm": {
     "name": "#%%\n"
    }
   }
  },
  {
   "cell_type": "code",
   "execution_count": 29,
   "outputs": [],
   "source": [
    "# ROC and AUC\n",
    "probs = tree_class_weighted.predict_proba(X_test)\n",
    "fpr, tpr, thresholds = roc_curve(y_test, preds)"
   ],
   "metadata": {
    "collapsed": false,
    "pycharm": {
     "name": "#%%\n"
    }
   }
  },
  {
   "cell_type": "code",
   "execution_count": 30,
   "outputs": [
    {
     "name": "stdout",
     "output_type": "stream",
     "text": [
      "0.7113722766051375\n"
     ]
    }
   ],
   "source": [
    "print(auc(fpr, tpr))"
   ],
   "metadata": {
    "collapsed": false,
    "pycharm": {
     "name": "#%%\n"
    }
   }
  },
  {
   "cell_type": "code",
   "execution_count": 31,
   "outputs": [
    {
     "data": {
      "text/plain": "<Figure size 432x288 with 1 Axes>",
      "image/png": "[encoded data removed]"
     },
     "metadata": {
      "needs_background": "light"
     },
     "output_type": "display_data"
    }
   ],
   "source": [
    "plot_roc_curve(tree_class_weighted, X_test, y_test);"
   ],
   "metadata": {
    "collapsed": false,
    "pycharm": {
     "name": "#%%\n"
    }
   }
  },
  {
   "cell_type": "markdown",
   "source": [
    "Not bad, all things considered, but still thinking we could do better. Let's try some ensemble methods while we're at it!"
   ],
   "metadata": {
    "collapsed": false,
    "pycharm": {
     "name": "#%% md\n"
    }
   }
  },
  {
   "cell_type": "markdown",
   "source": [
    "## BaggingClassifier"
   ],
   "metadata": {
    "collapsed": false,
    "pycharm": {
     "name": "#%% md\n"
    }
   }
  },
  {
   "cell_type": "code",
   "execution_count": 32,
   "outputs": [],
   "source": [
    "from sklearn.ensemble import BaggingClassifier, RandomForestClassifier"
   ],
   "metadata": {
    "collapsed": false,
    "pycharm": {
     "name": "#%%\n"
    }
   }
  },
  {
   "cell_type": "code",
   "execution_count": 33,
   "outputs": [],
   "source": [
    "bag_tree = BaggingClassifier(base_estimator=tree_class_weighted, n_estimators=30)\n",
    "bag_tree.fit(X_train, y_train)\n",
    "\n",
    "bag_preds = bag_tree.predict(X_test)"
   ],
   "metadata": {
    "collapsed": false,
    "pycharm": {
     "name": "#%%\n"
    }
   }
  },
  {
   "cell_type": "code",
   "execution_count": 34,
   "outputs": [
    {
     "name": "stdout",
     "output_type": "stream",
     "text": [
      "Weighted tree accuracy: 0.8800227985180963\n",
      "Bag tree accuracy: 0.8830626009309395\n"
     ]
    }
   ],
   "source": [
    "from sklearn.metrics import accuracy_score, precision_score, recall_score, f1_score\n",
    "print(f'Weighted tree accuracy: {tree_class_weighted.score(X_test, y_test)}')\n",
    "print(f'Bag tree accuracy: {bag_tree.score(X_test, y_test)}')"
   ],
   "metadata": {
    "collapsed": false,
    "pycharm": {
     "name": "#%%\n"
    }
   }
  },
  {
   "cell_type": "code",
   "execution_count": 35,
   "outputs": [
    {
     "name": "stdout",
     "output_type": "stream",
     "text": [
      "Weighted tree precision: 0.4340425531914894\n",
      "Bag tree precision: 0.442151344590369\n"
     ]
    }
   ],
   "source": [
    "print(f'Weighted tree precision: {precision_score(y_test, weighted_preds)}')\n",
    "print(f'Bag tree precision: {precision_score(y_test, bag_preds)}')"
   ],
   "metadata": {
    "collapsed": false,
    "pycharm": {
     "name": "#%%\n"
    }
   }
  },
  {
   "cell_type": "code",
   "execution_count": 36,
   "outputs": [
    {
     "name": "stdout",
     "output_type": "stream",
     "text": [
      "Weighted tree recall: 0.6826003824091779\n",
      "Bag tree recall: 0.6759082217973231\n"
     ]
    }
   ],
   "source": [
    "print(f'Weighted tree recall: {recall_score(y_test, weighted_preds)}')\n",
    "print(f'Bag tree recall: {recall_score(y_test, bag_preds)}')"
   ],
   "metadata": {
    "collapsed": false,
    "pycharm": {
     "name": "#%%\n"
    }
   }
  },
  {
   "cell_type": "code",
   "execution_count": 37,
   "outputs": [
    {
     "name": "stdout",
     "output_type": "stream",
     "text": [
      "Weighted tree F1: 0.5306577480490524\n",
      "Bag tree F1: 0.534593572778828\n"
     ]
    }
   ],
   "source": [
    "print(f'Weighted tree F1: {f1_score(y_test, weighted_preds)}')\n",
    "print(f'Bag tree F1: {f1_score(y_test, bag_preds)}')"
   ],
   "metadata": {
    "collapsed": false,
    "pycharm": {
     "name": "#%%\n"
    }
   }
  },
  {
   "cell_type": "markdown",
   "source": [
    "## Random Forest"
   ],
   "metadata": {
    "collapsed": false,
    "pycharm": {
     "name": "#%% md\n"
    }
   }
  },
  {
   "cell_type": "code",
   "execution_count": 38,
   "outputs": [],
   "source": [
    "# Create Tree\n",
    "Rf_cl = RandomForestClassifier(class_weight='balanced', max_depth=10)"
   ],
   "metadata": {
    "collapsed": false,
    "pycharm": {
     "name": "#%%\n"
    }
   }
  },
  {
   "cell_type": "code",
   "execution_count": 39,
   "outputs": [
    {
     "name": "stdout",
     "output_type": "stream",
     "text": [
      "              precision    recall  f1-score   support\n",
      "\n",
      "         0.0       0.96      0.91      0.93      9481\n",
      "         1.0       0.44      0.68      0.53      1046\n",
      "\n",
      "    accuracy                           0.88     10527\n",
      "   macro avg       0.70      0.79      0.73     10527\n",
      "weighted avg       0.91      0.88      0.89     10527\n",
      "\n"
     ]
    }
   ],
   "source": [
    "Rf_cl.fit(X_train, y_train)\n",
    "Rf_preds = Rf_cl.predict(X_test)\n",
    "print(classification_report(y_test, Rf_preds))"
   ],
   "metadata": {
    "collapsed": false,
    "pycharm": {
     "name": "#%%\n"
    }
   }
  },
  {
   "cell_type": "markdown",
   "source": [
    "## ADABOOST"
   ],
   "metadata": {
    "collapsed": false,
    "pycharm": {
     "name": "#%% md\n"
    }
   }
  },
  {
   "cell_type": "markdown",
   "source": [],
   "metadata": {
    "collapsed": false,
    "pycharm": {
     "name": "#%% md\n"
    }
   }
  },
  {
   "cell_type": "code",
   "execution_count": 40,
   "outputs": [
    {
     "name": "stdout",
     "output_type": "stream",
     "text": [
      "              precision    recall  f1-score   support\n",
      "\n",
      "         0.0       0.94      0.98      0.96      9481\n",
      "         1.0       0.67      0.41      0.51      1046\n",
      "\n",
      "    accuracy                           0.92     10527\n",
      "   macro avg       0.80      0.69      0.73     10527\n",
      "weighted avg       0.91      0.92      0.91     10527\n",
      "\n"
     ]
    }
   ],
   "source": [
    "from sklearn.ensemble import AdaBoostClassifier\n",
    "ada_clf = AdaBoostClassifier()\n",
    "ada_clf.fit(X_train, y_train)\n",
    "ada_preds = ada_clf.predict(X_test)\n",
    "print(classification_report(y_test, ada_preds))"
   ],
   "metadata": {
    "collapsed": false,
    "pycharm": {
     "name": "#%%\n"
    }
   }
  },
  {
   "cell_type": "markdown",
   "source": [
    "## Gradient Boost"
   ],
   "metadata": {
    "collapsed": false,
    "pycharm": {
     "name": "#%% md\n"
    }
   }
  },
  {
   "cell_type": "code",
   "execution_count": 41,
   "outputs": [
    {
     "name": "stdout",
     "output_type": "stream",
     "text": [
      "              precision    recall  f1-score   support\n",
      "\n",
      "         0.0       0.94      0.97      0.96      9481\n",
      "         1.0       0.64      0.49      0.55      1046\n",
      "\n",
      "    accuracy                           0.92     10527\n",
      "   macro avg       0.79      0.73      0.76     10527\n",
      "weighted avg       0.91      0.92      0.92     10527\n",
      "\n"
     ]
    }
   ],
   "source": [
    "from sklearn.ensemble import GradientBoostingClassifier\n",
    "grad_clf = GradientBoostingClassifier()\n",
    "\n",
    "grad_clf.fit(X_train, y_train)\n",
    "grad_preds = grad_clf.predict(X_test)\n",
    "print(classification_report(y_test, grad_preds))"
   ],
   "metadata": {
    "collapsed": false,
    "pycharm": {
     "name": "#%%\n"
    }
   }
  },
  {
   "cell_type": "code",
   "execution_count": 42,
   "outputs": [
    {
     "ename": "XGBoostError",
     "evalue": "\nXGBoost Library (libxgboost.dylib) could not be loaded.\nLikely causes:\n  * OpenMP runtime is not installed\n    - vcomp140.dll or libgomp-1.dll for Windows\n    - libomp.dylib for Mac OSX\n    - libgomp.so for Linux and other UNIX-like OSes\n    Mac OSX users: Run `brew install libomp` to install OpenMP runtime.\n\n  * You are running 32-bit Python on a 64-bit OS\n\nError message(s): ['dlopen(/Users/matthewturner/opt/anaconda3/lib/python3.8/site-packages/xgboost/lib/libxgboost.dylib, 6): Library not loaded: /usr/local/opt/libomp/lib/libomp.dylib\\n  Referenced from: /Users/matthewturner/opt/anaconda3/lib/python3.8/site-packages/xgboost/lib/libxgboost.dylib\\n  Reason: image not found']\n",
     "output_type": "error",
     "traceback": [
      "\u001B[0;31m---------------------------------------------------------------------------\u001B[0m",
      "\u001B[0;31mXGBoostError\u001B[0m                              Traceback (most recent call last)",
      "\u001B[0;32m<ipython-input-42-7f31eda3f472>\u001B[0m in \u001B[0;36m<module>\u001B[0;34m\u001B[0m\n\u001B[0;32m----> 1\u001B[0;31m \u001B[0;32mfrom\u001B[0m \u001B[0mxgboost\u001B[0m \u001B[0;32mimport\u001B[0m \u001B[0mXGBClassifier\u001B[0m\u001B[0;34m\u001B[0m\u001B[0;34m\u001B[0m\u001B[0m\n\u001B[0m\u001B[1;32m      2\u001B[0m \u001B[0mxgb_clf\u001B[0m \u001B[0;34m=\u001B[0m \u001B[0mXGBClassifier\u001B[0m\u001B[0;34m(\u001B[0m\u001B[0;34m)\u001B[0m\u001B[0;34m\u001B[0m\u001B[0;34m\u001B[0m\u001B[0m\n\u001B[1;32m      3\u001B[0m \u001B[0mX_train\u001B[0m\u001B[0;34m\u001B[0m\u001B[0;34m\u001B[0m\u001B[0m\n\u001B[1;32m      4\u001B[0m \u001B[0;31m#xgb_clf.fit(X_train)\u001B[0m\u001B[0;34m\u001B[0m\u001B[0;34m\u001B[0m\u001B[0;34m\u001B[0m\u001B[0m\n",
      "\u001B[0;32m~/opt/anaconda3/lib/python3.8/site-packages/xgboost/__init__.py\u001B[0m in \u001B[0;36m<module>\u001B[0;34m\u001B[0m\n\u001B[1;32m      7\u001B[0m \u001B[0;32mimport\u001B[0m \u001B[0mos\u001B[0m\u001B[0;34m\u001B[0m\u001B[0;34m\u001B[0m\u001B[0m\n\u001B[1;32m      8\u001B[0m \u001B[0;34m\u001B[0m\u001B[0m\n\u001B[0;32m----> 9\u001B[0;31m \u001B[0;32mfrom\u001B[0m \u001B[0;34m.\u001B[0m\u001B[0mcore\u001B[0m \u001B[0;32mimport\u001B[0m \u001B[0mDMatrix\u001B[0m\u001B[0;34m,\u001B[0m \u001B[0mDeviceQuantileDMatrix\u001B[0m\u001B[0;34m,\u001B[0m \u001B[0mBooster\u001B[0m\u001B[0;34m,\u001B[0m \u001B[0mDataIter\u001B[0m\u001B[0;34m\u001B[0m\u001B[0;34m\u001B[0m\u001B[0m\n\u001B[0m\u001B[1;32m     10\u001B[0m \u001B[0;32mfrom\u001B[0m \u001B[0;34m.\u001B[0m\u001B[0mtraining\u001B[0m \u001B[0;32mimport\u001B[0m \u001B[0mtrain\u001B[0m\u001B[0;34m,\u001B[0m \u001B[0mcv\u001B[0m\u001B[0;34m\u001B[0m\u001B[0;34m\u001B[0m\u001B[0m\n\u001B[1;32m     11\u001B[0m \u001B[0;32mfrom\u001B[0m \u001B[0;34m.\u001B[0m \u001B[0;32mimport\u001B[0m \u001B[0mrabit\u001B[0m  \u001B[0;31m# noqa\u001B[0m\u001B[0;34m\u001B[0m\u001B[0;34m\u001B[0m\u001B[0m\n",
      "\u001B[0;32m~/opt/anaconda3/lib/python3.8/site-packages/xgboost/core.py\u001B[0m in \u001B[0;36m<module>\u001B[0;34m\u001B[0m\n\u001B[1;32m    201\u001B[0m \u001B[0;34m\u001B[0m\u001B[0m\n\u001B[1;32m    202\u001B[0m \u001B[0;31m# load the XGBoost library globally\u001B[0m\u001B[0;34m\u001B[0m\u001B[0;34m\u001B[0m\u001B[0;34m\u001B[0m\u001B[0m\n\u001B[0;32m--> 203\u001B[0;31m \u001B[0m_LIB\u001B[0m \u001B[0;34m=\u001B[0m \u001B[0m_load_lib\u001B[0m\u001B[0;34m(\u001B[0m\u001B[0;34m)\u001B[0m\u001B[0;34m\u001B[0m\u001B[0;34m\u001B[0m\u001B[0m\n\u001B[0m\u001B[1;32m    204\u001B[0m \u001B[0;34m\u001B[0m\u001B[0m\n\u001B[1;32m    205\u001B[0m \u001B[0;34m\u001B[0m\u001B[0m\n",
      "\u001B[0;32m~/opt/anaconda3/lib/python3.8/site-packages/xgboost/core.py\u001B[0m in \u001B[0;36m_load_lib\u001B[0;34m()\u001B[0m\n\u001B[1;32m    179\u001B[0m     \u001B[0;32mif\u001B[0m \u001B[0;32mnot\u001B[0m \u001B[0mlib_success\u001B[0m\u001B[0;34m:\u001B[0m\u001B[0;34m\u001B[0m\u001B[0;34m\u001B[0m\u001B[0m\n\u001B[1;32m    180\u001B[0m         \u001B[0mlibname\u001B[0m \u001B[0;34m=\u001B[0m \u001B[0mos\u001B[0m\u001B[0;34m.\u001B[0m\u001B[0mpath\u001B[0m\u001B[0;34m.\u001B[0m\u001B[0mbasename\u001B[0m\u001B[0;34m(\u001B[0m\u001B[0mlib_paths\u001B[0m\u001B[0;34m[\u001B[0m\u001B[0;36m0\u001B[0m\u001B[0;34m]\u001B[0m\u001B[0;34m)\u001B[0m\u001B[0;34m\u001B[0m\u001B[0;34m\u001B[0m\u001B[0m\n\u001B[0;32m--> 181\u001B[0;31m         raise XGBoostError(\n\u001B[0m\u001B[1;32m    182\u001B[0m             f\"\"\"\n\u001B[1;32m    183\u001B[0m \u001B[0mXGBoost\u001B[0m \u001B[0mLibrary\u001B[0m \u001B[0;34m(\u001B[0m\u001B[0;34m{\u001B[0m\u001B[0mlibname\u001B[0m\u001B[0;34m}\u001B[0m\u001B[0;34m)\u001B[0m \u001B[0mcould\u001B[0m \u001B[0;32mnot\u001B[0m \u001B[0mbe\u001B[0m \u001B[0mloaded\u001B[0m\u001B[0;34m.\u001B[0m\u001B[0;34m\u001B[0m\u001B[0;34m\u001B[0m\u001B[0m\n",
      "\u001B[0;31mXGBoostError\u001B[0m: \nXGBoost Library (libxgboost.dylib) could not be loaded.\nLikely causes:\n  * OpenMP runtime is not installed\n    - vcomp140.dll or libgomp-1.dll for Windows\n    - libomp.dylib for Mac OSX\n    - libgomp.so for Linux and other UNIX-like OSes\n    Mac OSX users: Run `brew install libomp` to install OpenMP runtime.\n\n  * You are running 32-bit Python on a 64-bit OS\n\nError message(s): ['dlopen(/Users/matthewturner/opt/anaconda3/lib/python3.8/site-packages/xgboost/lib/libxgboost.dylib, 6): Library not loaded: /usr/local/opt/libomp/lib/libomp.dylib\\n  Referenced from: /Users/matthewturner/opt/anaconda3/lib/python3.8/site-packages/xgboost/lib/libxgboost.dylib\\n  Reason: image not found']\n"
     ]
    }
   ],
   "source": [],
   "metadata": {
    "collapsed": false,
    "pycharm": {
     "name": "#%%\n"
    }
   }
  },
  {
   "cell_type": "code",
   "execution_count": null,
   "outputs": [],
   "source": [],
   "metadata": {
    "collapsed": false,
    "pycharm": {
     "name": "#%%\n"
    }
   }
  }
 ],
 "metadata": {
  "kernelspec": {
   "name": "python3",
   "language": "python",
   "display_name": "Python 3"
  },
  "language_info": {
   "codemirror_mode": {
    "name": "ipython",
    "version": 3
   },
   "file_extension": ".py",
   "mimetype": "text/x-python",
   "name": "python",
   "nbconvert_exporter": "python",
   "pygments_lexer": "ipython3",
   "version": "3.8.5"
  }
 },
 "nbformat": 4,
 "nbformat_minor": 4
}