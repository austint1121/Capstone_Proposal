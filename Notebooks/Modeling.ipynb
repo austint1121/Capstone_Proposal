{
 "cells": [
  {
   "cell_type": "code",
   "execution_count": 12,
   "metadata": {},
   "outputs": [],
   "source": [
    "import pandas as pd\n",
    "from sklearn.model_selection import train_test_split\n",
    "from catboost import CatBoostClassifier, Pool, metrics, cv\n",
    "from sklearn.metrics import accuracy_score, recall_score, precision_score, roc_auc_score, f1_score, plot_confusion_matrix\n",
    "import numpy as np"
   ]
  },
  {
   "cell_type": "code",
   "execution_count": 13,
   "metadata": {
    "pycharm": {
     "name": "#%%\n"
    }
   },
   "outputs": [],
   "source": [
    "# Import Data\n",
    "df = pd.read_sas('../Data/nsch_2020_topical_SAS/nsch_2020_topical.sas7bdat')"
   ]
  },
  {
   "cell_type": "code",
   "execution_count": 14,
   "metadata": {
    "pycharm": {
     "name": "#%%\n"
    }
   },
   "outputs": [
    {
     "data": {
      "text/plain": "FIPSST       0\nSTRATUM      0\nHHID         0\nFORMTYPE     0\nTOTKIDS_R    0\n            ..\nFPL_I3       0\nFPL_I4       0\nFPL_I5       0\nFPL_I6       0\nFWC          0\nLength: 443, dtype: int64"
     },
     "execution_count": 14,
     "metadata": {},
     "output_type": "execute_result"
    }
   ],
   "source": [
    "# Checking for NaN values\n",
    "df.isna().sum()"
   ]
  },
  {
   "cell_type": "code",
   "execution_count": 15,
   "metadata": {
    "pycharm": {
     "name": "#%%\n"
    }
   },
   "outputs": [],
   "source": [
    "# There are only a 188 NANs in the target, I will opt to drop them\n",
    "df.dropna(subset=['K2Q31A'], inplace=True)"
   ]
  },
  {
   "cell_type": "code",
   "execution_count": 16,
   "metadata": {
    "pycharm": {
     "name": "#%%\n"
    }
   },
   "outputs": [],
   "source": [
    "# For the rest of the columns, I will fill in a value that CATBOOST will easily be able to identify as a NAN\n",
    "df.fillna(-999, inplace=True)"
   ]
  },
  {
   "cell_type": "code",
   "execution_count": 17,
   "metadata": {
    "pycharm": {
     "name": "#%%\n"
    }
   },
   "outputs": [],
   "source": [
    "# Target: Diagnosed ADHD\n",
    "y = df['K2Q31A']\n",
    "\n",
    "# Dropping ANYTHING related to ADHD and treatment\n",
    "X = df.drop(columns=['K2Q31A', 'ADDTREAT', 'K2Q31B', 'K2Q31C', 'K2Q31D', 'K4Q23', 'SC_K2Q12', 'SC_K2Q10', 'SC_K2Q11'])"
   ]
  },
  {
   "cell_type": "code",
   "execution_count": 18,
   "metadata": {
    "pycharm": {
     "name": "#%%\n"
    }
   },
   "outputs": [],
   "source": [
    "# Get the indices of object columns\n",
    "categorical_features_indices = np.where(df.dtypes != float)[0]"
   ]
  },
  {
   "cell_type": "code",
   "execution_count": 19,
   "metadata": {
    "pycharm": {
     "name": "#%%\n"
    }
   },
   "outputs": [],
   "source": [
    "# TTS\n",
    "X_train, X_validation, y_train, y_validation = train_test_split(X, y, train_size=0.75, random_state=42)"
   ]
  },
  {
   "cell_type": "code",
   "execution_count": 20,
   "metadata": {
    "pycharm": {
     "name": "#%%\n"
    }
   },
   "outputs": [],
   "source": [
    "# Setting up the model\n",
    "model = CatBoostClassifier(\n",
    "    custom_loss=[metrics.Accuracy()],\n",
    "    random_seed=42,\n",
    "    logging_level='Silent'\n",
    ")"
   ]
  },
  {
   "cell_type": "code",
   "execution_count": 21,
   "metadata": {
    "pycharm": {
     "name": "#%%\n"
    }
   },
   "outputs": [
    {
     "data": {
      "text/plain": "MetricVisualizer(layout=Layout(align_self='stretch', height='500px'))",
      "application/vnd.jupyter.widget-view+json": {
       "version_major": 2,
       "version_minor": 0,
       "model_id": "ea4c0e0d1f224ab3bc468d75fd66ff99"
      }
     },
     "metadata": {},
     "output_type": "display_data"
    }
   ],
   "source": [
    "# Fit the model on the data.\n",
    "model.fit(\n",
    "    X_train, y_train,\n",
    "    cat_features=categorical_features_indices,\n",
    "    eval_set=(X_validation, y_validation),\n",
    "    # Plot the learning of the model\n",
    "    plot=True\n",
    ");"
   ]
  },
  {
   "cell_type": "code",
   "execution_count": 22,
   "metadata": {
    "pycharm": {
     "name": "#%%\n"
    }
   },
   "outputs": [
    {
     "data": {
      "text/plain": "MetricVisualizer(layout=Layout(align_self='stretch', height='500px'))",
      "application/vnd.jupyter.widget-view+json": {
       "version_major": 2,
       "version_minor": 0,
       "model_id": "7e87c4ce4736496cbd10f622af5857bb"
      }
     },
     "metadata": {},
     "output_type": "display_data"
    }
   ],
   "source": [
    "# Cross Validate\n",
    "cv_params = model.get_params()\n",
    "cv_params.update({\n",
    "    'loss_function': metrics.Logloss()\n",
    "})\n",
    "cv_data = cv(\n",
    "    Pool(X, list(y), cat_features=categorical_features_indices),\n",
    "    cv_params,\n",
    "    plot=True\n",
    ")"
   ]
  },
  {
   "cell_type": "code",
   "execution_count": 23,
   "metadata": {
    "pycharm": {
     "name": "#%%\n"
    }
   },
   "outputs": [
    {
     "name": "stdout",
     "output_type": "stream",
     "text": [
      "Best validation accuracy score: 0.94±0.00 on step 945\n"
     ]
    }
   ],
   "source": [
    "# print the best validation accuracy score\n",
    "print('Best validation accuracy score: {:.2f}±{:.2f} on step {}'.format(\n",
    "    np.max(cv_data['test-Accuracy-mean']),\n",
    "    cv_data['test-Accuracy-std'][np.argmax(cv_data['test-Accuracy-mean'])],\n",
    "    np.argmax(cv_data['test-Accuracy-mean'])\n",
    "))"
   ]
  },
  {
   "cell_type": "code",
   "execution_count": 24,
   "metadata": {
    "pycharm": {
     "name": "#%%\n"
    }
   },
   "outputs": [
    {
     "name": "stdout",
     "output_type": "stream",
     "text": [
      "Precise validation accuracy score: 0.9394679685369484\n"
     ]
    }
   ],
   "source": [
    "# Printing the ean accuracy score\n",
    "print('Precise validation accuracy score: {}'.format(np.max(cv_data['test-Accuracy-mean'])))"
   ]
  },
  {
   "cell_type": "code",
   "execution_count": 25,
   "metadata": {
    "pycharm": {
     "name": "#%%\n"
    }
   },
   "outputs": [
    {
     "name": "stderr",
     "output_type": "stream",
     "text": [
      "/Users/matthewturner/opt/anaconda3/envs/Capstone/lib/python3.9/site-packages/sklearn/utils/deprecation.py:87: FutureWarning: Function plot_confusion_matrix is deprecated; Function `plot_confusion_matrix` is deprecated in 1.0 and will be removed in 1.2. Use one of the class methods: ConfusionMatrixDisplay.from_predictions or ConfusionMatrixDisplay.from_estimator.\n",
      "  warnings.warn(msg, category=FutureWarning)\n"
     ]
    },
    {
     "data": {
      "text/plain": "<sklearn.metrics._plot.confusion_matrix.ConfusionMatrixDisplay at 0x132817a00>"
     },
     "execution_count": 25,
     "metadata": {},
     "output_type": "execute_result"
    },
    {
     "data": {
      "text/plain": "<Figure size 432x288 with 2 Axes>",
      "image/png": "[encoded data removed]"
     },
     "metadata": {
      "needs_background": "light"
     },
     "output_type": "display_data"
    }
   ],
   "source": [
    "# Plot confusion Matrix for test set.\n",
    "plot_confusion_matrix(model, X_validation, y_validation, cmap='Reds')"
   ]
  },
  {
   "cell_type": "code",
   "execution_count": 26,
   "metadata": {
    "pycharm": {
     "name": "#%%\n"
    }
   },
   "outputs": [
    {
     "data": {
      "text/plain": "0.9370773854244928"
     },
     "execution_count": 26,
     "metadata": {},
     "output_type": "execute_result"
    }
   ],
   "source": [
    "accuracy_score(y_validation, model.predict(X_validation))"
   ]
  },
  {
   "cell_type": "code",
   "execution_count": 27,
   "metadata": {
    "pycharm": {
     "name": "#%%\n"
    }
   },
   "outputs": [
    {
     "data": {
      "text/plain": "0.7199504337050805"
     },
     "execution_count": 27,
     "metadata": {},
     "output_type": "execute_result"
    }
   ],
   "source": [
    "precision_score(y_validation, model.predict(X_validation))"
   ]
  },
  {
   "cell_type": "code",
   "execution_count": 28,
   "metadata": {
    "pycharm": {
     "name": "#%%\n"
    }
   },
   "outputs": [
    {
     "data": {
      "text/plain": "0.5668292682926829"
     },
     "execution_count": 28,
     "metadata": {},
     "output_type": "execute_result"
    }
   ],
   "source": [
    "recall_score(y_validation, model.predict(X_validation))"
   ]
  },
  {
   "cell_type": "code",
   "execution_count": 29,
   "metadata": {
    "pycharm": {
     "name": "#%%\n"
    }
   },
   "outputs": [
    {
     "data": {
      "text/plain": "0.6342794759825328"
     },
     "execution_count": 29,
     "metadata": {},
     "output_type": "execute_result"
    }
   ],
   "source": [
    "f1_score(y_validation, model.predict(X_validation))"
   ]
  },
  {
   "cell_type": "code",
   "execution_count": 30,
   "metadata": {
    "pycharm": {
     "name": "#%%\n"
    }
   },
   "outputs": [
    {
     "data": {
      "text/plain": "0.7716719343645687"
     },
     "execution_count": 30,
     "metadata": {},
     "output_type": "execute_result"
    }
   ],
   "source": [
    "roc_auc_score(y_validation, model.predict(X_validation))"
   ]
  },
  {
   "cell_type": "markdown",
   "source": [
    "# Top 10 Features"
   ],
   "metadata": {
    "collapsed": false,
    "pycharm": {
     "name": "#%% md\n"
    }
   }
  },
  {
   "cell_type": "code",
   "execution_count": 31,
   "metadata": {
    "pycharm": {
     "name": "#%%\n"
    }
   },
   "outputs": [
    {
     "data": {
      "text/plain": "      Feature Id  Importances\n0       SC_CSHCN     5.720871\n1       FORMTYPE     4.964272\n2      MENBEVCOV     3.515523\n3      TELLSTORY     3.437380\n4     MEMORYCOND     3.314904\n..           ...          ...\n429      CURRINS     0.000000\n430       INSGAP     0.000000\n431      BIRTHWT     0.000000\n432  A1_GRADE_IF     0.000000\n433   HHCOUNT_IF     0.000000\n\n[434 rows x 2 columns]",
      "text/html": "<div>\n<style scoped>\n    .dataframe tbody tr th:only-of-type {\n        vertical-align: middle;\n    }\n\n    .dataframe tbody tr th {\n        vertical-align: top;\n    }\n\n    .dataframe thead th {\n        text-align: right;\n    }\n</style>\n<table border=\"1\" class=\"dataframe\">\n  <thead>\n    <tr style=\"text-align: right;\">\n      <th></th>\n      <th>Feature Id</th>\n      <th>Importances</th>\n    </tr>\n  </thead>\n  <tbody>\n    <tr>\n      <th>0</th>\n      <td>SC_CSHCN</td>\n      <td>5.720871</td>\n    </tr>\n    <tr>\n      <th>1</th>\n      <td>FORMTYPE</td>\n      <td>4.964272</td>\n    </tr>\n    <tr>\n      <th>2</th>\n      <td>MENBEVCOV</td>\n      <td>3.515523</td>\n    </tr>\n    <tr>\n      <th>3</th>\n      <td>TELLSTORY</td>\n      <td>3.437380</td>\n    </tr>\n    <tr>\n      <th>4</th>\n      <td>MEMORYCOND</td>\n      <td>3.314904</td>\n    </tr>\n    <tr>\n      <th>...</th>\n      <td>...</td>\n      <td>...</td>\n    </tr>\n    <tr>\n      <th>429</th>\n      <td>CURRINS</td>\n      <td>0.000000</td>\n    </tr>\n    <tr>\n      <th>430</th>\n      <td>INSGAP</td>\n      <td>0.000000</td>\n    </tr>\n    <tr>\n      <th>431</th>\n      <td>BIRTHWT</td>\n      <td>0.000000</td>\n    </tr>\n    <tr>\n      <th>432</th>\n      <td>A1_GRADE_IF</td>\n      <td>0.000000</td>\n    </tr>\n    <tr>\n      <th>433</th>\n      <td>HHCOUNT_IF</td>\n      <td>0.000000</td>\n    </tr>\n  </tbody>\n</table>\n<p>434 rows × 2 columns</p>\n</div>"
     },
     "execution_count": 31,
     "metadata": {},
     "output_type": "execute_result"
    }
   ],
   "source": [
    "importance = model.get_feature_importance(prettified=True)\n",
    "importance"
   ]
  },
  {
   "cell_type": "markdown",
   "metadata": {
    "pycharm": {
     "name": "#%% md\n"
    }
   },
   "source": [
    "- **SC_CSHCN** = Special Health Care Needs Status of Selected Child\n",
    "<br>\n",
    "\n",
    "- **FORMTYPE** = Administrative variable, and index column\n",
    "<br>\n",
    "\n",
    "- **MENBEVCOV** - Health Insurance -Thinking specifically about this child's mental or behavioral health needs, how often does this child's health insurance offer benefits or cover services that meet these needs?\n",
    "1 = Always\n",
    "2 = Usually\n",
    "3 = Sometimes\n",
    "4 = Never\n",
    "5 = This child does not use mental or behavioral health services\n",
    "<br>\n",
    "\n",
    "- **TELLSTORY** - Is this child able to do the following:\n",
    "Tell a story with a beginning, middle, and end?\n",
    "<br>\n",
    "\n",
    "- **MEMORYCOND** - Does this child have serious difficulty concentrating, remembering, or making decisions because of a physical, mental, or emotional condition\n",
    "<br>\n",
    "\n",
    "- **K2Q34A** = Has a doctor, other health care provider, or educator EVER told you that this child\n",
    "has Behavioral or Conduct Problems?\n",
    "<br>\n",
    "\n",
    "- **SC_SEX** = Sex of child in question\n",
    "<br>\n",
    "\n",
    "- **SESPLANYR** is a Subquestion of\n",
    "    - K6Q15: Has this child EVER had a special education or early intervention plan?\"\n",
    "        - 'SESPLANYR' : \"How old was the child at the time of the FIRST plan?\"\n",
    "<br>\n",
    "\n",
    "- **TOTCSHCN** = Count of Children with Special Health Care Needs in Household\n",
    "<br>\n",
    "\n",
    "- **K7Q84_R** = How often does this child work to finish tasks they start?\n",
    "1 = Always\n",
    "2 = Usually\n",
    "3 = Sometimes\n",
    "4 = Never\n",
    "<br>\n",
    "\n",
    "## Analysis\n",
    "Looking at these and applying domain knowledge, I think most of this makes sense.\n",
    "- **MEMORYCOND, TELLSTORY, K2Q34A (Conduct Problems), and K7Q84_R (Unfinished tasks)** are all symptoms of ADHD\n",
    "- **SC_SEX** makes sense because [boys are more likely to be diagnosed with ADHD than girls (12.9% compared to 5.6%)](https://pubmed.ncbi.nlm.nih.gov/29363986/)\n",
    "- **FORMTYPE** actually has to do with the age group. Households received one of the three age-specific topical questionnaires based on the age of the sampled child:\n",
    "    • NSCH-T1 (or T1) for children aged 0-5 years,\n",
    "    • NSCH-T2 (or T2) for children aged 6-11 years, or\n",
    "    • NSCH-T3 (or T3) for children aged 12-17 years.\n",
    "- **MENBEVCOV, SESPLANYR** should probably be looked into more. I could see multiple reasons the model feels this is important.\n",
    "- **TOTCSHCN** Should be dropped, this is most likly giving away the answer, I don't think ADHD has any correlation with the amount of kids in a household that have special health care needs\n",
    "\n",
    "\n",
    "There are some other features that I'm surprised aren't in the top 10. Like if the child is diagnosed with depression, or an anxiety disorder.\n"
   ]
  },
  {
   "cell_type": "code",
   "execution_count": 42,
   "metadata": {
    "pycharm": {
     "name": "#%%\n"
    }
   },
   "outputs": [
    {
     "data": {
      "text/plain": "    Feature Id  Importances\n139     K2Q32A     0.146227",
      "text/html": "<div>\n<style scoped>\n    .dataframe tbody tr th:only-of-type {\n        vertical-align: middle;\n    }\n\n    .dataframe tbody tr th {\n        vertical-align: top;\n    }\n\n    .dataframe thead th {\n        text-align: right;\n    }\n</style>\n<table border=\"1\" class=\"dataframe\">\n  <thead>\n    <tr style=\"text-align: right;\">\n      <th></th>\n      <th>Feature Id</th>\n      <th>Importances</th>\n    </tr>\n  </thead>\n  <tbody>\n    <tr>\n      <th>139</th>\n      <td>K2Q32A</td>\n      <td>0.146227</td>\n    </tr>\n  </tbody>\n</table>\n</div>"
     },
     "execution_count": 42,
     "metadata": {},
     "output_type": "execute_result"
    }
   ],
   "source": [
    "# Checking Importance of \"Diagnosed with Depression\" column\n",
    "importance[importance['Feature Id'] == 'K2Q32A']"
   ]
  },
  {
   "cell_type": "code",
   "execution_count": null,
   "outputs": [],
   "source": [],
   "metadata": {
    "collapsed": false,
    "pycharm": {
     "name": "#%%\n"
    }
   }
  }
 ],
 "metadata": {
  "kernelspec": {
   "display_name": "Python 3 (ipykernel)",
   "language": "python",
   "name": "python3"
  },
  "language_info": {
   "codemirror_mode": {
    "name": "ipython",
    "version": 3
   },
   "file_extension": ".py",
   "mimetype": "text/x-python",
   "name": "python",
   "nbconvert_exporter": "python",
   "pygments_lexer": "ipython3",
   "version": "3.9.7"
  }
 },
 "nbformat": 4,
 "nbformat_minor": 1
}